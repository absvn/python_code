{
 "cells": [
  {
   "cell_type": "markdown",
   "id": "2980266a-4f93-47a9-a670-9a3c79d322cf",
   "metadata": {},
   "source": [
    "## Tuple"
   ]
  },
  {
   "cell_type": "code",
   "execution_count": 1,
   "id": "5fe647ed-35d2-40a0-bc8e-432f24c524cc",
   "metadata": {},
   "outputs": [
    {
     "name": "stdout",
     "output_type": "stream",
     "text": [
      "('Max', 2, 'thor')\n"
     ]
    }
   ],
   "source": [
    "tup = ('Max', 2, 'thor')\n",
    "print(tup)"
   ]
  },
  {
   "cell_type": "code",
   "execution_count": 2,
   "id": "8b4ea6b7-75da-4d8d-87f2-4b4cb9b22957",
   "metadata": {},
   "outputs": [
    {
     "name": "stdout",
     "output_type": "stream",
     "text": [
      "<class 'tuple'>\n"
     ]
    }
   ],
   "source": [
    "print(type(tup))"
   ]
  },
  {
   "cell_type": "code",
   "execution_count": 3,
   "id": "4227ef73-4419-4990-b8ea-eb84023dc5a9",
   "metadata": {},
   "outputs": [
    {
     "name": "stdout",
     "output_type": "stream",
     "text": [
      "<class 'str'>\n"
     ]
    }
   ],
   "source": [
    "tup2 = ('Max')\n",
    "print(type(tup2))"
   ]
  },
  {
   "cell_type": "code",
   "execution_count": 4,
   "id": "1955da7b-8894-4ff9-95df-4ca1db3d629d",
   "metadata": {},
   "outputs": [
    {
     "name": "stdout",
     "output_type": "stream",
     "text": [
      "('Max', 2, 'thor', 'mahi')\n",
      "<class 'tuple'>\n"
     ]
    }
   ],
   "source": [
    "tup4 = 'Max', 2, 'thor', 'mahi'\n",
    "print(tup4)\n",
    "print(type(tup4))"
   ]
  },
  {
   "cell_type": "markdown",
   "id": "1ffa0fc9-2296-44c9-b168-5483107921ca",
   "metadata": {},
   "source": [
    "## tuple creation from list"
   ]
  },
  {
   "cell_type": "code",
   "execution_count": 5,
   "id": "02528331-bf1e-419d-b1ab-d9a45c92fd76",
   "metadata": {},
   "outputs": [
    {
     "name": "stdout",
     "output_type": "stream",
     "text": [
      "('thor', 2, 'mahi')\n",
      "<class 'tuple'>\n"
     ]
    }
   ],
   "source": [
    "tup = tuple(['thor', 2, 'mahi'])\n",
    "print(tup)\n",
    "print(type(tup))"
   ]
  },
  {
   "cell_type": "code",
   "execution_count": 8,
   "id": "64ac9311-6a39-4976-a3bf-2906a6a59184",
   "metadata": {},
   "outputs": [
    {
     "name": "stdout",
     "output_type": "stream",
     "text": [
      "2\n"
     ]
    }
   ],
   "source": [
    "item = tup[1]\n",
    "print(item)"
   ]
  },
  {
   "cell_type": "code",
   "execution_count": 9,
   "id": "b35ff75e-8eef-4934-8176-b9ee3610dcc7",
   "metadata": {},
   "outputs": [
    {
     "name": "stdout",
     "output_type": "stream",
     "text": [
      "thor\n",
      "2\n",
      "mahi\n"
     ]
    }
   ],
   "source": [
    "for i in tup:\n",
    "    print(i)"
   ]
  },
  {
   "cell_type": "code",
   "execution_count": 2,
   "id": "99a18ae3-d320-4553-b947-ff3aaaba20c5",
   "metadata": {},
   "outputs": [
    {
     "data": {
      "text/plain": [
       "(1, 2, 3, 4, 5, 6, 7)"
      ]
     },
     "execution_count": 2,
     "metadata": {},
     "output_type": "execute_result"
    }
   ],
   "source": [
    "a = (1,2,3,4,5,6,7,8,9)\n",
    "a[:-2]"
   ]
  },
  {
   "cell_type": "code",
   "execution_count": 3,
   "id": "b7132f64-376f-4601-bd70-089e7abbfd6b",
   "metadata": {},
   "outputs": [
    {
     "data": {
      "text/plain": [
       "(1,)"
      ]
     },
     "execution_count": 3,
     "metadata": {},
     "output_type": "execute_result"
    }
   ],
   "source": [
    "a[:1]"
   ]
  },
  {
   "cell_type": "code",
   "execution_count": 7,
   "id": "7ed491c4-999f-48af-b0d1-77966cf08e6f",
   "metadata": {},
   "outputs": [
    {
     "name": "stdout",
     "output_type": "stream",
     "text": [
      "thor 2000000 India\n"
     ]
    }
   ],
   "source": [
    "my_tuple = 'thor', 2000000, 'India'\n",
    "name, num, country = my_tuple\n",
    "print(name, num, country)"
   ]
  },
  {
   "cell_type": "code",
   "execution_count": 9,
   "id": "eb0f6713-b440-4329-b1b8-1e7b241388d5",
   "metadata": {},
   "outputs": [
    {
     "name": "stdout",
     "output_type": "stream",
     "text": [
      "i:-  1\n",
      "*l:-  [2, 4, 5, 6, 7]\n",
      "a:-  8\n"
     ]
    }
   ],
   "source": [
    "a = (1,2,4,5,6,7,8)\n",
    "i, *l, h = a\n",
    "print('i:- ', i)\n",
    "print('*l:- ', l)\n",
    "print('a:- ', h)"
   ]
  },
  {
   "cell_type": "code",
   "execution_count": 1,
   "id": "2d4ece6a-4aa5-439a-9268-d594ff261baf",
   "metadata": {},
   "outputs": [
    {
     "name": "stdout",
     "output_type": "stream",
     "text": [
      "72\n"
     ]
    }
   ],
   "source": [
    "import sys\n",
    "a = ('mahi', 2, 9, 'thor')\n",
    "print(sys.getsizeof(a))"
   ]
  },
  {
   "cell_type": "code",
   "execution_count": 2,
   "id": "ada4ff31-6dad-44cb-b4fe-80ea0df8c84d",
   "metadata": {},
   "outputs": [
    {
     "name": "stdout",
     "output_type": "stream",
     "text": [
      "152 byte size of list\n",
      "88 byte size of tuple\n",
      "0.0709431980003501\n",
      "0.008394037000471144\n"
     ]
    }
   ],
   "source": [
    "# compare the execution time of the list\n",
    "\n",
    "a_list = [1,2,3,4,5,6]\n",
    "a_tuple = (1,2,3,4,5,6)\n",
    "\n",
    "print(sys.getsizeof(a_list), 'byte size of list')\n",
    "print(sys.getsizeof(a_tuple), 'byte size of tuple')\n",
    "\n",
    "import timeit\n",
    "\n",
    "print(timeit.timeit(stmt='[1,2,3,4,5,6]', number = 1000000))\n",
    "print(timeit.timeit(stmt='(1,2,3,4,5,6)', number = 1000000))"
   ]
  },
  {
   "cell_type": "code",
   "execution_count": null,
   "id": "1d2cbcce-fa23-4426-8ef9-9781f0504355",
   "metadata": {},
   "outputs": [],
   "source": []
  }
 ],
 "metadata": {
  "kernelspec": {
   "display_name": "Python 3 (ipykernel)",
   "language": "python",
   "name": "python3"
  },
  "language_info": {
   "codemirror_mode": {
    "name": "ipython",
    "version": 3
   },
   "file_extension": ".py",
   "mimetype": "text/x-python",
   "name": "python",
   "nbconvert_exporter": "python",
   "pygments_lexer": "ipython3",
   "version": "3.9.5"
  }
 },
 "nbformat": 4,
 "nbformat_minor": 5
}
