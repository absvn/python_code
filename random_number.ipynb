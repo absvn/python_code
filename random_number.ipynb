{
 "cells": [
  {
   "cell_type": "code",
   "execution_count": 1,
   "id": "f7ac5146-180b-4465-ba52-ff8e4acfb080",
   "metadata": {},
   "outputs": [],
   "source": [
    "import random"
   ]
  },
  {
   "cell_type": "code",
   "execution_count": 2,
   "id": "92a33e3a-ecb1-4cc6-b7ef-90aba1d36de0",
   "metadata": {},
   "outputs": [
    {
     "name": "stdout",
     "output_type": "stream",
     "text": [
      "0.4765245137440719\n"
     ]
    }
   ],
   "source": [
    "k = random.random()\n",
    "print(k)"
   ]
  },
  {
   "cell_type": "code",
   "execution_count": 3,
   "id": "38b19291-af12-4596-a9cd-553627a506e4",
   "metadata": {},
   "outputs": [
    {
     "name": "stdout",
     "output_type": "stream",
     "text": [
      "5\n"
     ]
    }
   ],
   "source": [
    "k = random.randint(1,10)\n",
    "print(k)"
   ]
  },
  {
   "cell_type": "code",
   "execution_count": 4,
   "id": "96dfaeef-65ee-4447-a8f6-0c46c351a0e7",
   "metadata": {},
   "outputs": [
    {
     "name": "stdout",
     "output_type": "stream",
     "text": [
      "5.738115736066062\n"
     ]
    }
   ],
   "source": [
    "k = random.uniform(1,10)\n",
    "print(k)"
   ]
  },
  {
   "cell_type": "code",
   "execution_count": 5,
   "id": "f7dffa64-6dee-4118-8288-035d861cadba",
   "metadata": {},
   "outputs": [
    {
     "name": "stdout",
     "output_type": "stream",
     "text": [
      "3\n"
     ]
    }
   ],
   "source": [
    "k = random.randrange(1,10)       # here 10 will be excluded\n",
    "print(k)                       "
   ]
  },
  {
   "cell_type": "code",
   "execution_count": 6,
   "id": "c1f0762f-f080-4f0d-bc10-aab12cd6e248",
   "metadata": {},
   "outputs": [
    {
     "name": "stdout",
     "output_type": "stream",
     "text": [
      "1.202525060893178\n"
     ]
    }
   ],
   "source": [
    "k = random.normalvariate(0,1)\n",
    "print(k)"
   ]
  },
  {
   "cell_type": "code",
   "execution_count": 7,
   "id": "ed79a474-e06b-490b-b4cc-4d1c622df9c8",
   "metadata": {},
   "outputs": [
    {
     "name": "stdout",
     "output_type": "stream",
     "text": [
      "b\n"
     ]
    }
   ],
   "source": [
    "k = random.choice(list('asdfghklzxcvbnmwertyuiop')) # chooses a random element from the sequence\n",
    "print(k)"
   ]
  },
  {
   "cell_type": "code",
   "execution_count": 8,
   "id": "e7d76621-225f-4fb4-be3a-6a5f86248508",
   "metadata": {},
   "outputs": [
    {
     "name": "stdout",
     "output_type": "stream",
     "text": [
      "['q', 'p', 'l', 'k']\n"
     ]
    }
   ],
   "source": [
    "k = random.sample(list('qwetyuiopasdfghjklxcvbnm'), 4) # choose k element from the sequence\n",
    "print(k)"
   ]
  },
  {
   "cell_type": "code",
   "execution_count": 9,
   "id": "da5a8bc6-93a3-43f3-999f-998458d79e3f",
   "metadata": {},
   "outputs": [
    {
     "name": "stdout",
     "output_type": "stream",
     "text": [
      "['g', 'p', 'x', 'n']\n"
     ]
    }
   ],
   "source": [
    "k = random.choices(list('qwertyuiopsdfghjklxcvbnm'), k=4)\n",
    "print(k)"
   ]
  },
  {
   "cell_type": "code",
   "execution_count": 10,
   "id": "8f71940f-a5e2-421c-a48f-17c97bd93a3b",
   "metadata": {},
   "outputs": [
    {
     "name": "stdout",
     "output_type": "stream",
     "text": [
      "['n', 'h', 'x', 'd', 'g', 'v', 'f', 'k', 'a', 's', 'l', 'z', 'm', 'c', 'b', 'j']\n"
     ]
    }
   ],
   "source": [
    "a= list('asdfghjklzxcvbnm')\n",
    "random.shuffle(a)\n",
    "print(a)"
   ]
  },
  {
   "cell_type": "markdown",
   "id": "42ffe967-5746-4ecd-a372-450ef1ea4192",
   "metadata": {},
   "source": [
    "## the seed generator"
   ]
  },
  {
   "cell_type": "code",
   "execution_count": 11,
   "id": "68e8c9eb-1ad6-48a0-a6df-5b02475418cb",
   "metadata": {},
   "outputs": [
    {
     "name": "stdout",
     "output_type": "stream",
     "text": [
      "the 1 seeding begins..\n",
      "\n",
      "0.13436424411240122\n",
      "2 \n",
      "\n",
      "the 2 seeding bengins..\n",
      "\n",
      "0.9560342718892494\n",
      "1\n"
     ]
    }
   ],
   "source": [
    "print('the 1 seeding begins..\\n')\n",
    "\n",
    "random.seed(1)\n",
    "print(random.random())\n",
    "print(random.randint(1,10),'\\n')\n",
    "\n",
    "print('the 2 seeding bengins..\\n')\n",
    "\n",
    "random.seed(2)\n",
    "print(random.random())\n",
    "print(random.randint(1,10))"
   ]
  },
  {
   "cell_type": "markdown",
   "id": "08bd83f9-a05a-4feb-ade4-421e96d06060",
   "metadata": {},
   "source": [
    "## the secret module"
   ]
  },
  {
   "cell_type": "code",
   "execution_count": 12,
   "id": "507e780a-2d69-4657-a09d-5451c63aa365",
   "metadata": {},
   "outputs": [],
   "source": [
    "import secrets"
   ]
  },
  {
   "cell_type": "code",
   "execution_count": 20,
   "id": "e98b20b3-6df7-4745-9844-629e8d2f3506",
   "metadata": {},
   "outputs": [
    {
     "name": "stdout",
     "output_type": "stream",
     "text": [
      "63269651\n",
      "8\n",
      "n\n"
     ]
    }
   ],
   "source": [
    "print(secrets.randbelow(1000000000))\n",
    "print(secrets.randbits(5))\n",
    "print(secrets.choice(list('asdghjklzxcvbnm')))"
   ]
  },
  {
   "cell_type": "markdown",
   "id": "028b4636-2f4d-4c83-be1b-01fe1d1b7a2a",
   "metadata": {},
   "source": [
    "## random numbers with numpy"
   ]
  },
  {
   "cell_type": "code",
   "execution_count": 21,
   "id": "a303c941-0170-4735-b1a3-5903aa9fa595",
   "metadata": {},
   "outputs": [],
   "source": [
    "import numpy as np"
   ]
  },
  {
   "cell_type": "code",
   "execution_count": 27,
   "id": "8c1aa46f-da21-4fe8-b145-cdc255d53f7c",
   "metadata": {},
   "outputs": [
    {
     "name": "stdout",
     "output_type": "stream",
     "text": [
      "[4.17022005e-01 7.20324493e-01 1.14374817e-04 3.02332573e-01\n",
      " 1.46755891e-01 9.23385948e-02 1.86260211e-01 3.45560727e-01\n",
      " 3.96767474e-01 5.38816734e-01]\n",
      "[4.17022005e-01 7.20324493e-01 1.14374817e-04 3.02332573e-01\n",
      " 1.46755891e-01 9.23385948e-02 1.86260211e-01 3.45560727e-01\n",
      " 3.96767474e-01 5.38816734e-01]\n"
     ]
    }
   ],
   "source": [
    "np.random.seed(1)\n",
    "print(np.random.rand(10))\n",
    "\n",
    "np.random.seed(1)\n",
    "print(np.random.rand(10))"
   ]
  },
  {
   "cell_type": "code",
   "execution_count": 31,
   "id": "38aae28a-dcbc-4d0b-ab86-633d98b0ab84",
   "metadata": {},
   "outputs": [
    {
     "name": "stdout",
     "output_type": "stream",
     "text": [
      "[[6 3 5 3 5]\n",
      " [8 8 2 8 1]\n",
      " [7 8 7 2 1]\n",
      " [2 9 9 4 9]\n",
      " [8 4 7 6 2]]\n"
     ]
    }
   ],
   "source": [
    "print(np.random.randint(1,10, (5,5)))"
   ]
  },
  {
   "cell_type": "code",
   "execution_count": 32,
   "id": "fd9109cc-0248-4451-9a30-d666bff82992",
   "metadata": {},
   "outputs": [
    {
     "name": "stdout",
     "output_type": "stream",
     "text": [
      "[ 1.91382039  0.33079713  1.14194252 -1.12959516 -0.85005238  0.96082\n",
      " -0.21741818  0.15851488  0.87341823]\n"
     ]
    }
   ],
   "source": [
    "print(np.random.randn(9))"
   ]
  },
  {
   "cell_type": "code",
   "execution_count": 36,
   "id": "532acbce-7635-4c2c-a2c3-79f8a70975bb",
   "metadata": {},
   "outputs": [
    {
     "name": "stdout",
     "output_type": "stream",
     "text": [
      "[[6 3 5 3 5]\n",
      " [2 9 9 4 9]\n",
      " [8 8 2 8 1]\n",
      " [8 4 7 6 2]\n",
      " [7 8 7 2 1]]\n"
     ]
    }
   ],
   "source": [
    "k = np.array([[6,3,5,3,5], [8,8,2,8,1], [7,8,7,2,1], [2,9,9,4,9], [8,4,7,6,2]])\n",
    "np.random.shuffle(k)\n",
    "print(k)"
   ]
  },
  {
   "cell_type": "code",
   "execution_count": null,
   "id": "6a22e47d-e2e2-4478-9445-b388267c28db",
   "metadata": {},
   "outputs": [],
   "source": []
  }
 ],
 "metadata": {
  "kernelspec": {
   "display_name": "Python 3 (ipykernel)",
   "language": "python",
   "name": "python3"
  },
  "language_info": {
   "codemirror_mode": {
    "name": "ipython",
    "version": 3
   },
   "file_extension": ".py",
   "mimetype": "text/x-python",
   "name": "python",
   "nbconvert_exporter": "python",
   "pygments_lexer": "ipython3",
   "version": "3.8.12"
  }
 },
 "nbformat": 4,
 "nbformat_minor": 5
}
