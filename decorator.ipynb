{
 "cells": [
  {
   "cell_type": "code",
   "execution_count": 20,
   "id": "9a06c971-a398-4fad-b8cd-5ec8c61314e4",
   "metadata": {},
   "outputs": [
    {
     "name": "stdout",
     "output_type": "stream",
     "text": [
      "thor\n",
      "\n",
      "\n",
      "the name is\n",
      "thor\n",
      "and my weapon is stormbreaker\n"
     ]
    }
   ],
   "source": [
    "def my_dect(funi):\n",
    "    \n",
    "    def wrapper():\n",
    "        print('the name is')\n",
    "        funi()\n",
    "        print('and my weapon is stormbreaker')\n",
    "    return wrapper\n",
    "\n",
    "def name():\n",
    "    print('thor')\n",
    "\n",
    "name()\n",
    "\n",
    "print('\\n')\n",
    "\n",
    "name = my_dect(name)\n",
    "name()"
   ]
  },
  {
   "cell_type": "markdown",
   "id": "86749637-3e7f-4e6c-a36e-b96fcd19b376",
   "metadata": {},
   "source": [
    "## the decorator syntax"
   ]
  },
  {
   "cell_type": "code",
   "execution_count": 7,
   "id": "17860cd3-5f02-498b-9469-cb8824c3b41b",
   "metadata": {},
   "outputs": [
    {
     "name": "stdout",
     "output_type": "stream",
     "text": [
      "the name is\n",
      "thor\n",
      "and my weapon is stormbreaker\n"
     ]
    }
   ],
   "source": [
    "@my_dect\n",
    "def superhero():\n",
    "    print('thor')\n",
    "\n",
    "superhero()"
   ]
  },
  {
   "cell_type": "markdown",
   "id": "afc33d23-91ff-4f89-ae26-2d4c5700bec8",
   "metadata": {},
   "source": [
    "## example"
   ]
  },
  {
   "cell_type": "code",
   "execution_count": 30,
   "id": "9b8720da-48b9-4a5a-8ee0-5a99c052e15a",
   "metadata": {},
   "outputs": [
    {
     "name": "stdout",
     "output_type": "stream",
     "text": [
      "we are the team\n",
      "\n",
      "\n",
      "we are the team\n",
      "the decorator function\n"
     ]
    }
   ],
   "source": [
    "def the_dect(function):\n",
    "    def wrapper():\n",
    "        function()\n",
    "        print('the decorator function')\n",
    "    return wrapper\n",
    "\n",
    "def team():\n",
    "    print('we are the team')\n",
    "    \n",
    "team()\n",
    "\n",
    "print('\\n')\n",
    "\n",
    "team = the_dect(team)\n",
    "team()"
   ]
  },
  {
   "cell_type": "code",
   "execution_count": 31,
   "id": "f5d77b46-bbbe-4b60-92de-909fae69b46e",
   "metadata": {},
   "outputs": [
    {
     "name": "stdout",
     "output_type": "stream",
     "text": [
      "stormbreaker\n",
      "the decorator function\n"
     ]
    }
   ],
   "source": [
    "@the_dect\n",
    "def weapon():\n",
    "    print('stormbreaker')\n",
    "    \n",
    "weapon()"
   ]
  },
  {
   "cell_type": "markdown",
   "id": "08851b74-59d2-47b7-9004-aad46a7a42b5",
   "metadata": {},
   "source": [
    "## function arguments"
   ]
  },
  {
   "cell_type": "code",
   "execution_count": 1,
   "id": "6af8cfc7-3d5d-40c0-bad0-2d2930027237",
   "metadata": {},
   "outputs": [
    {
     "name": "stdout",
     "output_type": "stream",
     "text": [
      "start\n",
      "end\n",
      "None\n"
     ]
    }
   ],
   "source": [
    "def decorator(func):\n",
    "    def wrapper(*args, **kwargs):\n",
    "        print('start')\n",
    "        func(*args, **kwargs)\n",
    "        print('end')\n",
    "    return wrapper\n",
    "\n",
    "@decorator\n",
    "def add(x):\n",
    "    return x+5\n",
    "\n",
    "result = add(10)\n",
    "print(result)"
   ]
  },
  {
   "cell_type": "markdown",
   "id": "fe8df949-5b49-435a-810d-634a49700801",
   "metadata": {},
   "source": [
    "## return values"
   ]
  },
  {
   "cell_type": "code",
   "execution_count": 7,
   "id": "2357c909-932e-43e4-a1fb-efd1e99f062e",
   "metadata": {},
   "outputs": [
    {
     "name": "stdout",
     "output_type": "stream",
     "text": [
      "beginning\n",
      "ending\n",
      "20\n",
      "beginning\n",
      "ending\n"
     ]
    },
    {
     "data": {
      "text/plain": [
       "19"
      ]
     },
     "execution_count": 7,
     "metadata": {},
     "output_type": "execute_result"
    }
   ],
   "source": [
    "def deco(func):\n",
    "    def wrapper(*args, **kwargs):\n",
    "        print('beginning')\n",
    "        result = func(*args, **kwargs)\n",
    "        print('ending')\n",
    "        return result\n",
    "    return wrapper\n",
    "\n",
    "@deco\n",
    "def add(x):\n",
    "    return x+10\n",
    "\n",
    "add(9)"
   ]
  },
  {
   "cell_type": "code",
   "execution_count": null,
   "id": "78c97e93-25c9-4d0e-ae28-4c86f442b2a0",
   "metadata": {},
   "outputs": [],
   "source": []
  }
 ],
 "metadata": {
  "kernelspec": {
   "display_name": "Python 3 (ipykernel)",
   "language": "python",
   "name": "python3"
  },
  "language_info": {
   "codemirror_mode": {
    "name": "ipython",
    "version": 3
   },
   "file_extension": ".py",
   "mimetype": "text/x-python",
   "name": "python",
   "nbconvert_exporter": "python",
   "pygments_lexer": "ipython3",
   "version": "3.8.12"
  }
 },
 "nbformat": 4,
 "nbformat_minor": 5
}
