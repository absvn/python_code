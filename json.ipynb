{
 "cells": [
  {
   "cell_type": "code",
   "execution_count": 1,
   "id": "d731f50d-0cc5-4437-bc3e-c505f7ef57f5",
   "metadata": {},
   "outputs": [],
   "source": [
    "import json"
   ]
  },
  {
   "cell_type": "markdown",
   "id": "612a464d-75ca-4c9d-8ace-dae87df167aa",
   "metadata": {},
   "source": [
    "## python to JSON"
   ]
  },
  {
   "cell_type": "code",
   "execution_count": 7,
   "id": "92e33646-7fcb-4b70-8c53-ce61f27723e3",
   "metadata": {},
   "outputs": [
    {
     "name": "stdout",
     "output_type": "stream",
     "text": [
      "{\"name\": \"thor\", \"age\": 28, \"department\": \"saving the universe\", \"weapon\": [\"storm breaker\", \"lightning\"]}\n",
      "{\n",
      "        \"age\"=28,\n",
      "        \"department\"=\"saving the universe\",\n",
      "        \"name\"=\"thor\",\n",
      "        \"weapon\"=[\n",
      "                \"storm breaker\",\n",
      "                \"lightning\"\n",
      "        ]\n",
      "}\n"
     ]
    }
   ],
   "source": [
    "pr = {'name': 'thor', 'age': 28, 'department': 'saving the universe', 'weapon': ['storm breaker', 'lightning']}\n",
    "# now convert it to JSON\n",
    "pr_js = json.dumps(pr)\n",
    "print(pr_js)\n",
    "pr_nw = json.dumps(pr, indent=8, separators=(',', '='), sort_keys=True)\n",
    "print(pr_nw)"
   ]
  },
  {
   "cell_type": "markdown",
   "id": "6b01b7fa-f9b6-43a2-9f15-fed309080c8e",
   "metadata": {},
   "source": [
    "## JSON to python"
   ]
  },
  {
   "cell_type": "code",
   "execution_count": 15,
   "id": "c426b4b8-f02c-490e-ab59-d9c78f217d39",
   "metadata": {},
   "outputs": [
    {
     "name": "stdout",
     "output_type": "stream",
     "text": [
      "{'age': 28, 'department': 'saving the universe', 'name': 'thor', 'weapon': ['storm breaker', 'lightning']}\n"
     ]
    }
   ],
   "source": [
    "js = '''{\n",
    "        \"age\":28,\n",
    "        \"department\":\"saving the universe\",\n",
    "        \"name\":\"thor\",\n",
    "        \"weapon\":[\n",
    "                \"storm breaker\",\n",
    "                \"lightning\"\n",
    "        ]\n",
    "}'''\n",
    "py_js = json.loads(js)\n",
    "print(py_js)"
   ]
  },
  {
   "cell_type": "markdown",
   "id": "ddd44aae-d145-4bc7-b7d3-3fe361cab2c1",
   "metadata": {},
   "source": [
    "## file convert to JSON from python"
   ]
  },
  {
   "cell_type": "code",
   "execution_count": 16,
   "id": "052aeaec-c5a1-4c0b-bbb2-553b678ba21d",
   "metadata": {},
   "outputs": [],
   "source": [
    "pr = {\"name\": \"John\", \"age\": 30, \"city\": \"New York\", \"hasChildren\": False, \"titles\": [\"engineer\", \"programmer\"]}\n",
    "\n",
    "with open('pr.json', 'w') as f:\n",
    "    json.dump(pr, f)"
   ]
  },
  {
   "cell_type": "markdown",
   "id": "547aeed4-ef51-49ec-99bd-013078dfe0f1",
   "metadata": {},
   "source": [
    "## file convert to python from JSON"
   ]
  },
  {
   "cell_type": "code",
   "execution_count": 17,
   "id": "2e1f764d-0b6d-4074-a70c-701b246f9ad6",
   "metadata": {},
   "outputs": [
    {
     "name": "stdout",
     "output_type": "stream",
     "text": [
      "{'name': 'John', 'age': 30, 'city': 'New York', 'hasChildren': False, 'titles': ['engineer', 'programmer']}\n"
     ]
    }
   ],
   "source": [
    "with open('pr.json', 'r') as f:\n",
    "    superhero = json.load(f)\n",
    "    print(superhero)"
   ]
  },
  {
   "cell_type": "code",
   "execution_count": null,
   "id": "0e64b621-bb0a-432b-81b9-58e2e5706afd",
   "metadata": {},
   "outputs": [],
   "source": []
  }
 ],
 "metadata": {
  "kernelspec": {
   "display_name": "Python 3 (ipykernel)",
   "language": "python",
   "name": "python3"
  },
  "language_info": {
   "codemirror_mode": {
    "name": "ipython",
    "version": 3
   },
   "file_extension": ".py",
   "mimetype": "text/x-python",
   "name": "python",
   "nbconvert_exporter": "python",
   "pygments_lexer": "ipython3",
   "version": "3.8.12"
  }
 },
 "nbformat": 4,
 "nbformat_minor": 5
}
