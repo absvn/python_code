{
 "cells": [
  {
   "cell_type": "markdown",
   "id": "c8572f2e-95bb-4207-bb0c-63ba6fa690bd",
   "metadata": {},
   "source": [
    "## List"
   ]
  },
  {
   "cell_type": "code",
   "execution_count": 1,
   "id": "f879947f-60da-4a1d-a464-7f01b7c4556b",
   "metadata": {},
   "outputs": [
    {
     "name": "stdout",
     "output_type": "stream",
     "text": [
      "['thor', 'mahi', 'india', 'ab_svn']\n"
     ]
    }
   ],
   "source": [
    "mylist = ['thor', 'mahi', 'india', 'ab_svn']\n",
    "print(mylist)"
   ]
  },
  {
   "cell_type": "code",
   "execution_count": 2,
   "id": "0f1ee13f-997d-458a-ac05-060c253b47f0",
   "metadata": {},
   "outputs": [
    {
     "name": "stdout",
     "output_type": "stream",
     "text": [
      "[]\n"
     ]
    }
   ],
   "source": [
    "mylist2 = list()\n",
    "print(mylist2)"
   ]
  },
  {
   "cell_type": "code",
   "execution_count": 30,
   "id": "91a9cbe4-6b72-48ae-8ea5-d2b50dca7088",
   "metadata": {},
   "outputs": [],
   "source": [
    "mylist2 = [9,8,7,6,5,4]"
   ]
  },
  {
   "cell_type": "code",
   "execution_count": 3,
   "id": "b394df87-3c0c-4037-ae54-20c57dce0eb5",
   "metadata": {},
   "outputs": [
    {
     "name": "stdout",
     "output_type": "stream",
     "text": [
      "[1, True, 'apple', 'apple']\n"
     ]
    }
   ],
   "source": [
    "mylist4 = [1, True, 'apple', 'apple']\n",
    "print(mylist4)"
   ]
  },
  {
   "cell_type": "code",
   "execution_count": 4,
   "id": "ec96c963-8485-4972-8102-b6be1b73dd48",
   "metadata": {},
   "outputs": [
    {
     "name": "stdout",
     "output_type": "stream",
     "text": [
      "1\n",
      "True\n",
      "apple\n",
      "apple\n"
     ]
    }
   ],
   "source": [
    "for i in range(len(mylist4)):\n",
    "    item = mylist4[i]\n",
    "    print(item)"
   ]
  },
  {
   "cell_type": "code",
   "execution_count": 5,
   "id": "2558f625-5bd7-4ef4-a7fe-64bc289dc974",
   "metadata": {},
   "outputs": [
    {
     "name": "stdout",
     "output_type": "stream",
     "text": [
      "1\n",
      "True\n",
      "apple\n",
      "apple\n"
     ]
    }
   ],
   "source": [
    "for i in mylist4:\n",
    "    print(i)"
   ]
  },
  {
   "cell_type": "code",
   "execution_count": 6,
   "id": "235f11b9-274a-47e9-9c8b-157cae00f3fd",
   "metadata": {},
   "outputs": [
    {
     "name": "stdout",
     "output_type": "stream",
     "text": [
      "True\n"
     ]
    }
   ],
   "source": [
    "if 'apple' in mylist4:\n",
    "    print(True)"
   ]
  },
  {
   "cell_type": "code",
   "execution_count": 15,
   "id": "b9ed7a01-edba-4dd1-956d-33578bd6b525",
   "metadata": {},
   "outputs": [
    {
     "name": "stdout",
     "output_type": "stream",
     "text": [
      "[1, True, 'apple', 'apple', 'banana']\n"
     ]
    }
   ],
   "source": [
    "mylist4.append('banana')\n",
    "print(mylist4)"
   ]
  },
  {
   "cell_type": "code",
   "execution_count": 16,
   "id": "94d5d6f0-7b60-417d-a40b-2a5f2ef502ed",
   "metadata": {},
   "outputs": [
    {
     "data": {
      "text/plain": [
       "'banana'"
      ]
     },
     "execution_count": 16,
     "metadata": {},
     "output_type": "execute_result"
    }
   ],
   "source": [
    "mylist4[-1]"
   ]
  },
  {
   "cell_type": "code",
   "execution_count": 17,
   "id": "0ac1f24a-af88-4ea1-a683-2bbe9bd455cc",
   "metadata": {},
   "outputs": [],
   "source": [
    "mylist4.insert(4, 'mango')"
   ]
  },
  {
   "cell_type": "code",
   "execution_count": 18,
   "id": "17f0b6ec-04a9-470d-9a78-451ad09d6487",
   "metadata": {},
   "outputs": [
    {
     "name": "stdout",
     "output_type": "stream",
     "text": [
      "[1, True, 'apple', 'apple', 'mango', 'banana']\n"
     ]
    }
   ],
   "source": [
    "print(mylist4)"
   ]
  },
  {
   "cell_type": "code",
   "execution_count": 19,
   "id": "42092c1a-8bdf-4586-9088-97107ba7be6c",
   "metadata": {},
   "outputs": [
    {
     "data": {
      "text/plain": [
       "'banana'"
      ]
     },
     "execution_count": 19,
     "metadata": {},
     "output_type": "execute_result"
    }
   ],
   "source": [
    "mylist4.pop()"
   ]
  },
  {
   "cell_type": "code",
   "execution_count": 20,
   "id": "13e0b6c7-7b7b-465d-8427-93462600833c",
   "metadata": {},
   "outputs": [
    {
     "name": "stdout",
     "output_type": "stream",
     "text": [
      "[1, True, 'apple', 'apple', 'mango']\n"
     ]
    }
   ],
   "source": [
    "print(mylist4)"
   ]
  },
  {
   "cell_type": "code",
   "execution_count": 21,
   "id": "69be59ab-7375-4c72-ba70-79ce1e30da2a",
   "metadata": {},
   "outputs": [],
   "source": [
    "mylist4.remove('apple')"
   ]
  },
  {
   "cell_type": "code",
   "execution_count": 22,
   "id": "9ec9fe27-cdd8-47eb-b0f7-f639b51be81b",
   "metadata": {},
   "outputs": [
    {
     "name": "stdout",
     "output_type": "stream",
     "text": [
      "[1, True, 'apple', 'mango']\n"
     ]
    }
   ],
   "source": [
    "print(mylist4)"
   ]
  },
  {
   "cell_type": "code",
   "execution_count": 24,
   "id": "15bce3e5-9e44-4219-8759-a4ac5710c2c9",
   "metadata": {},
   "outputs": [],
   "source": [
    "mylist.sort()"
   ]
  },
  {
   "cell_type": "code",
   "execution_count": 25,
   "id": "5a05f37d-b93a-4958-8940-ebfd1f671e74",
   "metadata": {},
   "outputs": [
    {
     "name": "stdout",
     "output_type": "stream",
     "text": [
      "['ab_svn', 'india', 'mahi', 'thor']\n"
     ]
    }
   ],
   "source": [
    "print(mylist)"
   ]
  },
  {
   "cell_type": "code",
   "execution_count": 44,
   "id": "787014f1-c486-4138-84d0-fcbd996bd78a",
   "metadata": {},
   "outputs": [
    {
     "name": "stdout",
     "output_type": "stream",
     "text": [
      "[9, 8, 7, 6, 5, 4] \n",
      " [4, 5, 6, 7, 8, 9]\n"
     ]
    }
   ],
   "source": [
    "new_list = sorted(mylist2)\n",
    "print(mylist2, '\\n', new_list)"
   ]
  },
  {
   "cell_type": "code",
   "execution_count": 26,
   "id": "617ee304-9248-4cc9-83cf-c2f3d3dce994",
   "metadata": {},
   "outputs": [],
   "source": [
    "mylist4.reverse()"
   ]
  },
  {
   "cell_type": "code",
   "execution_count": 27,
   "id": "3cc062ce-a10f-4aa0-80bf-b8ef6ad21ab4",
   "metadata": {},
   "outputs": [
    {
     "name": "stdout",
     "output_type": "stream",
     "text": [
      "['mango', 'apple', True, 1]\n"
     ]
    }
   ],
   "source": [
    "print(mylist4)"
   ]
  },
  {
   "cell_type": "code",
   "execution_count": 45,
   "id": "3c1b6752-369a-4090-8380-e74a9b75c292",
   "metadata": {},
   "outputs": [
    {
     "name": "stdout",
     "output_type": "stream",
     "text": [
      "[8, 8, 8, 8, 8]\n",
      "[8, 8, 8, 8, 8, 1, 2, 3, 4, 5]\n"
     ]
    }
   ],
   "source": [
    "list1 = [8] * 5\n",
    "print(list1)\n",
    "\n",
    "list2 = [1,2,3,4,5]\n",
    "total = list1 + list2 \n",
    "print(total)"
   ]
  },
  {
   "cell_type": "code",
   "execution_count": 63,
   "id": "8214116e-72b7-43f4-9d75-2a2d85c26ce0",
   "metadata": {},
   "outputs": [
    {
     "data": {
      "text/plain": [
       "[9, 7, 5]"
      ]
     },
     "execution_count": 63,
     "metadata": {},
     "output_type": "execute_result"
    }
   ],
   "source": [
    "slicing = [9,8,7,6,5]\n",
    "slicing[::2]"
   ]
  },
  {
   "cell_type": "code",
   "execution_count": 76,
   "id": "0164dc81-bf27-4e02-8d25-2cd0bd3d76a7",
   "metadata": {},
   "outputs": [
    {
     "name": "stdout",
     "output_type": "stream",
     "text": [
      "using = to -->>  \n",
      "\n",
      "fruits -->>        ['apple', 'banana', 'mango', 'orange', 'lemon']\n",
      "fruits_equal -->>  ['apple', 'banana', 'mango', 'orange', 'lemon'] \n",
      "\n",
      "using copy -->>\n",
      "fruits -->>        ['apple', 'banana', 'mango', 'orange']\n",
      "fruits_equal -->>  ['apple', 'banana', 'mango', 'orange', 'lemon']\n"
     ]
    }
   ],
   "source": [
    "print('using = to -->> ', '\\n')\n",
    "fruits = ['apple', 'banana', 'mango', 'orange']\n",
    "fruits_equal = fruits                       \n",
    "\n",
    "fruits_equal.append('lemon')\n",
    "\n",
    "print('fruits -->>       ', fruits)\n",
    "print('fruits_equal -->> ', fruits_equal, '\\n')\n",
    "\n",
    "print('using copy -->>')\n",
    "fruits2 = ['apple', 'banana', 'mango', 'orange']\n",
    "fruits_copy = fruits2.copy()\n",
    "\n",
    "fruits_copy.append('lemon')\n",
    "\n",
    "print('fruits -->>       ', fruits2)\n",
    "print('fruits_equal -->> ', fruits_copy)"
   ]
  },
  {
   "cell_type": "code",
   "execution_count": 80,
   "id": "e8552a53-f2bc-4a68-b8d4-9c57ca464306",
   "metadata": {},
   "outputs": [
    {
     "name": "stdout",
     "output_type": "stream",
     "text": [
      "(1, 1)\n",
      "(2, 4)\n",
      "(3, 9)\n",
      "(4, 16)\n",
      "(5, 25)\n",
      "(6, 36)\n",
      "(7, 49)\n",
      "(8, 64)\n",
      "(9, 81)\n"
     ]
    }
   ],
   "source": [
    "number = [1,2,3,4,5,6,7,8,9]\n",
    "square = [i * i for i in number]\n",
    "\n",
    "for i in zip(number,square):\n",
    "    print(i)"
   ]
  },
  {
   "cell_type": "markdown",
   "id": "54b1f0d9-7699-4463-be73-09beb3ead257",
   "metadata": {},
  }
