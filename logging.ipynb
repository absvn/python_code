{
 "cells": [
  {
   "cell_type": "code",
   "execution_count": 1,
   "id": "e396d4f2-2981-4be3-a240-bf8a662bf54d",
   "metadata": {},
   "outputs": [],
   "source": [
    "import logging"
   ]
  },
  {
   "cell_type": "code",
   "execution_count": 3,
   "id": "681632cc-c1f7-480d-98f9-37492ea4676f",
   "metadata": {},
   "outputs": [
    {
     "name": "stderr",
     "output_type": "stream",
     "text": [
      "WARNING:root:this is the warning\n",
      "ERROR:root:this is the error\n",
      "CRITICAL:root:this is the critical\n"
     ]
    }
   ],
   "source": [
    "logging.warning('this is the warning')\n",
    "logging.debug('this is the debug')\n",
    "logging.info('this is the info')\n",
    "logging.error('this is the error')\n",
    "logging.critical('this is the critical')"
   ]
  },
  {
   "cell_type": "code",
   "execution_count": 5,
   "id": "8e463dcb-57e5-4a2a-8d33-61136c234bee",
   "metadata": {},
   "outputs": [],
   "source": [
    "logger = logging.getLogger(__name__)\n",
    "logging.info('hello')\n",
    "logging.basicConfig(level=logging.info, format='%(name)s - %(levelname)s - %(message)s')"
   ]
  },
  {
   "cell_type": "code",
   "execution_count": null,
   "id": "e9734c84-aac4-447e-b6e9-585dc5aeee70",
   "metadata": {},
   "outputs": [],
   "source": []
  }
 ],
 "metadata": {
  "kernelspec": {
   "display_name": "Python 3 (ipykernel)",
   "language": "python",
   "name": "python3"
  },
  "language_info": {
   "codemirror_mode": {
    "name": "ipython",
    "version": 3
   },
   "file_extension": ".py",
   "mimetype": "text/x-python",
   "name": "python",
   "nbconvert_exporter": "python",
   "pygments_lexer": "ipython3",
   "version": "3.8.12"
  }
 },
 "nbformat": 4,
 "nbformat_minor": 5
}
