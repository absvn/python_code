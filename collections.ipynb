{
 "cells": [
  {
   "cell_type": "code",
   "execution_count": 1,
   "id": "9facbf95-d70d-4f24-ae77-3de30a07eb64",
   "metadata": {},
   "outputs": [],
   "source": [
    "from collections import Counter"
   ]
  },
  {
   "cell_type": "code",
   "execution_count": 2,
   "id": "ce9b0589-4ac6-422c-a220-1ed58d77dd11",
   "metadata": {},
   "outputs": [
    {
     "name": "stdout",
     "output_type": "stream",
     "text": [
      "Counter({'m': 6, 'w': 5, 's': 5, 'a': 5, 'q': 4, 'd': 4, 'n': 3, 'g': 2, 'b': 2, 'f': 1, 'r': 1, 'v': 1})\n"
     ]
    }
   ],
   "source": [
    "a = 'qqqqwwwwwsssssaaaaaddddfrggvbbnnnmmmmmm'\n",
    "print(Counter(a))"
   ]
  },
  {
   "cell_type": "code",
   "execution_count": 3,
   "id": "513f31b5-bab1-42c9-a9c2-8289dc2f58d0",
   "metadata": {},
   "outputs": [
    {
     "name": "stdout",
     "output_type": "stream",
     "text": [
      "dict_items([('q', 4), ('w', 5), ('s', 5), ('a', 5), ('d', 4), ('f', 1), ('r', 1), ('g', 2), ('v', 1), ('b', 2), ('n', 3), ('m', 6)])\n",
      "dict_items([('q', 4), ('w', 5), ('s', 5), ('a', 5), ('d', 4), ('f', 1), ('r', 1), ('g', 2), ('v', 1), ('b', 2), ('n', 3), ('m', 6)])\n",
      "dict_values([4, 5, 5, 5, 4, 1, 1, 2, 1, 2, 3, 6])\n"
     ]
    }
   ],
   "source": [
    "z = Counter(a)\n",
    "print(z.items())\n",
    "print(z.items())\n",
    "print(z.values())"
   ]
  },
  {
   "cell_type": "code",
   "execution_count": 7,
   "id": "23e07e52-ab5c-47d0-8ec0-494a19460331",
   "metadata": {},
   "outputs": [
    {
     "name": "stdout",
     "output_type": "stream",
     "text": [
      "point(x=2, y=5)\n",
      "('x', 'y')\n",
      "<class '__main__.point'>\n",
      "2 5\n"
     ]
    }
   ],
   "source": [
    "# namedtuple\n",
    "\n",
    "from collections import namedtuple\n",
    "\n",
    "point = namedtuple('point', 'x, y')\n",
    "pt = point(2,5)\n",
    "print(pt)\n",
    "print(pt._fields)\n",
    "print(type(pt))\n",
    "print(pt.x , pt.y)"
   ]
  },
  {
   "cell_type": "code",
   "execution_count": 19,
   "id": "572ed64e-424a-47c6-aad5-4e426755c1d6",
   "metadata": {},
   "outputs": [
    {
     "name": "stdout",
     "output_type": "stream",
     "text": [
      "Person(name='thor', age=21)\n",
      "thor 21\n"
     ]
    }
   ],
   "source": [
    "details = namedtuple('Person', 'name, age')\n",
    "da = details('thor' , 21)\n",
    "print(da)\n",
    "print(da.name, da.age)"
   ]
  },
  {
   "cell_type": "code",
   "execution_count": 28,
   "id": "ccaa9252-9692-4fa2-b362-592d80dff7c7",
   "metadata": {},
   "outputs": [
    {
     "name": "stdout",
     "output_type": "stream",
     "text": [
      "{'a': 1, 'b': 2, 'c': 3, 'd': 4, 'e': 5}\n",
      "OrderedDict([('d', 1), ('e', 2), ('f', 3), ('g', 4), ('h', 5)])\n",
      "d 1\n",
      "e 2\n",
      "f 3\n",
      "g 4\n",
      "h 5\n"
     ]
    }
   ],
   "source": [
    "# ordereddict\n",
    "\n",
    "from collections import OrderedDict\n",
    "\n",
    "ordinary_dict = {}\n",
    "ordinary_dict['a'] = 1\n",
    "ordinary_dict['b'] = 2\n",
    "ordinary_dict['c'] = 3\n",
    "ordinary_dict['d'] = 4\n",
    "ordinary_dict['e'] = 5\n",
    "\n",
    "print(ordinary_dict)\n",
    "\n",
    "ordered_dict = OrderedDict()\n",
    "ordered_dict['d'] = 1\n",
    "ordered_dict['e'] = 2\n",
    "ordered_dict['f'] = 3\n",
    "ordered_dict['g'] = 4\n",
    "ordered_dict['h'] = 5\n",
    "\n",
    "print(ordered_dict)\n",
    "\n",
    "for d, m in ordered_dict.items():\n",
    "    print(d,m)"
   ]
  },
  {
   "cell_type": "code",
   "execution_count": 14,
   "id": "7f453916-7f83-43ad-8433-0650dc4b31b1",
   "metadata": {},
   "outputs": [
    {
     "name": "stdout",
     "output_type": "stream",
     "text": [
      "dict_items([('blue', 1), ('yellow', 2)])\n",
      "0\n",
      "values:-  dict_values([1, 2, 0])\n",
      "keys  :-  dict_keys(['blue', 'yellow', 'orange'])\n",
      "dict_items([('yellow', [1]), ('blue', [2])])\n",
      "0\n"
     ]
    }
   ],
   "source": [
    "# defaultdict\n",
    "# initialize with a default integer value, i.e 0\n",
    "\n",
    "from collections import defaultdict\n",
    "\n",
    "d = defaultdict(int)\n",
    "d['blue'] = 1\n",
    "d['yellow'] = 2\n",
    "print(d.items())\n",
    "print(d['orange'])\n",
    "print('values:- ', d.values())\n",
    "print('keys  :- ', d.keys())\n",
    "\n",
    "di = defaultdict(list)\n",
    "s = [('yellow', 1), ('blue', 2)]\n",
    "for u, t in s:\n",
    "    di[u].append(t)\n",
    "    \n",
    "print(di.items())\n",
    "print(d['orange'])"
   ]
  },
  {
   "cell_type": "markdown",
   "id": "ae2e61a2-17ef-4ca2-8cdc-eafe1e16e356",
   "metadata": {},
   "source": [
    "## deque"
   ]
  },
  {
   "cell_type": "code",
   "execution_count": 30,
   "id": "82613dd3-08cb-46fe-94d8-163c2d7c11aa",
   "metadata": {},
   "outputs": [
    {
     "name": "stdout",
     "output_type": "stream",
     "text": [
      "deque(['a', 'd'])\n"
     ]
    }
   ],
   "source": [
    "from collections import deque\n",
    "\n",
    "d = deque()\n",
    "d.append('a')\n",
    "d.append('d')\n",
    "print(d)"
   ]
  },
  {
   "cell_type": "code",
   "execution_count": 31,
   "id": "506940f3-d2ee-40d6-9814-5a3466e2e5b9",
   "metadata": {},
   "outputs": [
    {
     "name": "stdout",
     "output_type": "stream",
     "text": [
      "deque(['h', 'a', 'd'])\n"
     ]
    }
   ],
   "source": [
    "d.appendleft('h')\n",
    "print(d)"
   ]
  },
  {
   "cell_type": "code",
   "execution_count": 32,
   "id": "6b7ca9bd-bf7d-4332-b951-ea585fc8cad2",
   "metadata": {},
   "outputs": [
    {
     "name": "stdout",
     "output_type": "stream",
     "text": [
      "deque(['a', 'd'])\n"
     ]
    }
   ],
   "source": [
    "d.popleft()\n",
    "print(d)"
   ]
  },
  {
   "cell_type": "code",
   "execution_count": 33,
   "id": "a3106949-4943-495c-a0c0-abe1c4d435a7",
   "metadata": {},
   "outputs": [
    {
     "name": "stdout",
     "output_type": "stream",
     "text": [
      "deque(['a', 'd', 'h'])\n"
     ]
    }
   ],
   "source": [
    "d.append('h')\n",
    "print(d)"
   ]
  },
  {
   "cell_type": "code",
   "execution_count": 34,
   "id": "8f21c94e-f94b-446f-83fb-4b6c82de23bf",
   "metadata": {},
   "outputs": [
    {
     "data": {
      "text/plain": [
       "'h'"
      ]
     },
     "execution_count": 34,
     "metadata": {},
     "output_type": "execute_result"
    }
   ],
   "source": [
    "d.pop()"
   ]
  },
  {
   "cell_type": "code",
   "execution_count": 35,
   "id": "3fda1f8d-f542-43c1-a71b-b34e13a15cb0",
   "metadata": {},
   "outputs": [
    {
     "name": "stdout",
     "output_type": "stream",
     "text": [
      "deque(['a', 'd', 'd', 'e'])\n"
     ]
    }
   ],
   "source": [
    "d.extend(['d','e'])\n",
    "print(d)"
   ]
  },
  {
   "cell_type": "code",
   "execution_count": 36,
   "id": "aeb2846a-74d3-45a9-a6ae-fc0a645b7ee5",
   "metadata": {},
   "outputs": [
    {
     "name": "stdout",
     "output_type": "stream",
     "text": [
      "deque([2, 1, 'a', 'd', 'd', 'e'])\n"
     ]
    }
   ],
   "source": [
    "d.extendleft([1,2])\n",
    "print(d)"
   ]
  },
  {
   "cell_type": "code",
   "execution_count": 37,
   "id": "82317e97-919d-411c-89b9-f61e687d3bad",
   "metadata": {},
   "outputs": [
    {
     "data": {
      "text/plain": [
       "2"
      ]
     },
     "execution_count": 37,
     "metadata": {},
     "output_type": "execute_result"
    }
   ],
   "source": [
    "d.count('d')"
   ]
  },
  {
   "cell_type": "code",
   "execution_count": 38,
   "id": "43ce3773-fe5b-4253-a756-be4c7219e2b5",
   "metadata": {},
   "outputs": [
    {
     "name": "stdout",
     "output_type": "stream",
     "text": [
      "deque([2, 1, 'a', 'd', 'd', 'e'])\n",
      "rotate:-  deque(['e', 2, 1, 'a', 'd', 'd'])\n",
      "deque([1, 'a', 'd', 'd', 'e', 2])\n"
     ]
    }
   ],
   "source": [
    "print(d)\n",
    "d.rotate(1)\n",
    "print('rotate:- ', d)\n",
    "d.rotate(-2)\n",
    "print(d)"
   ]
  }
 ],
 "metadata": {
  "kernelspec": {
   "display_name": "Python 3 (ipykernel)",
   "language": "python",
   "name": "python3"
  },
  "language_info": {
   "codemirror_mode": {
    "name": "ipython",
    "version": 3
   },
   "file_extension": ".py",
   "mimetype": "text/x-python",
   "name": "python",
   "nbconvert_exporter": "python",
   "pygments_lexer": "ipython3",
   "version": "3.8.12"
  }
 },
 "nbformat": 4,
 "nbformat_minor": 5
}
