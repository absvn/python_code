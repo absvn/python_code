{
 "cells": [
  {
   "cell_type": "markdown",
   "id": "19907c3a-9ec5-4002-98e1-e299d392196b",
   "metadata": {},
   "source": [
    "## generators"
   ]
  },
  {
   "cell_type": "code",
   "execution_count": 1,
   "id": "e92daba9-5d12-4be9-b1b3-b09b686fb5a9",
   "metadata": {},
   "outputs": [
    {
     "name": "stdout",
     "output_type": "stream",
     "text": [
      "<generator object genrator at 0x105c39120>\n",
      "1\n",
      "2\n",
      "3\n",
      "4\n"
     ]
    }
   ],
   "source": [
    "def genrator():\n",
    "    yield 1\n",
    "    yield 2\n",
    "    yield 3\n",
    "    yield 4\n",
    "    \n",
    "g = genrator()\n",
    "print(g)\n",
    "\n",
    "print(next(g))  # stop at yield 1\n",
    "\n",
    "print(next(g))  # stop at yield 2\n",
    "\n",
    "print(next(g))  # stop at yield 3\n",
    "\n",
    "print(next(g))  # stop at yield 4\n",
    "\n",
    "# print(next(g))  # this will give the error StopIteration: "
   ]
  },
  {
   "cell_type": "code",
   "execution_count": 2,
   "id": "99ed54ea-1fe3-4684-ba9d-4a50d7e41f70",
   "metadata": {},
   "outputs": [
    {
     "name": "stdout",
     "output_type": "stream",
     "text": [
      "1\n",
      "2\n",
      "3\n",
      "4\n"
     ]
    }
   ],
   "source": [
    "l = genrator()\n",
    "for i in l:\n",
    "    print(i)"
   ]
  },
  {
   "cell_type": "code",
   "execution_count": 9,
   "id": "4001684c-02df-4127-804f-198b2e4e1524",
   "metadata": {},
   "outputs": [
    {
     "data": {
      "text/plain": [
       "128"
      ]
     },
     "execution_count": 9,
     "metadata": {},
     "output_type": "execute_result"
    }
   ],
   "source": [
    "def genrator_2():\n",
    "    yield 9\n",
    "    yield 9\n",
    "    yield 22\n",
    "    yield 88\n",
    "\n",
    "k = genrator_2()\n",
    "sum(k)"
   ]
  },
  {
   "cell_type": "code",
   "execution_count": 10,
   "id": "42f7a380-f773-47d0-8391-84d6095078ff",
   "metadata": {},
   "outputs": [
    {
     "data": {
      "text/plain": [
       "[9, 9, 22, 88]"
      ]
     },
     "execution_count": 10,
     "metadata": {},
     "output_type": "execute_result"
    }
   ],
   "source": [
    "m = genrator_2()\n",
    "sorted(m)"
   ]
  },
  {
   "cell_type": "code",
   "execution_count": 20,
   "id": "6291442d-3638-4888-abf8-1e82cc5c5b5f",
   "metadata": {},
   "outputs": [
    {
     "name": "stdout",
     "output_type": "stream",
     "text": [
      "lets start..\n",
      "4\n"
     ]
    },
    {
     "data": {
      "text/plain": [
       "3"
      ]
     },
     "execution_count": 20,
     "metadata": {},
     "output_type": "execute_result"
    }
   ],
   "source": [
    "def kountdown(num):\n",
    "    print('lets start..')\n",
    "    while num > 0:\n",
    "        yield num\n",
    "        num -= 1\n",
    "        \n",
    "t = kountdown(4)\n",
    "value = next(t)\n",
    "print(value)\n",
    "\n",
    "next(t)"
   ]
  },
  {
   "cell_type": "code",
   "execution_count": 26,
   "id": "54bfefc0-91cd-4314-a8ca-cf6f228581ae",
   "metadata": {},
   "outputs": [
    {
     "name": "stdout",
     "output_type": "stream",
     "text": [
      "lets start\n",
      "0\n"
     ]
    },
    {
     "data": {
      "text/plain": [
       "1"
      ]
     },
     "execution_count": 26,
     "metadata": {},
     "output_type": "execute_result"
    }
   ],
   "source": [
    "def my_el(n):\n",
    "    print('lets start')\n",
    "    for i in range(n):\n",
    "        yield i\n",
    "        \n",
    "y = my_el(9)\n",
    "yalu = next(y)\n",
    "print(yalu)\n",
    "\n",
    "next(y)"
   ]
  },
  {
   "cell_type": "code",
   "execution_count": null,
   "id": "46a031ee-d780-4694-b7d0-db8fc8787175",
   "metadata": {},
   "outputs": [],
   "source": [
    "import sys\n",
    "\n",
    "def nsum(n):\n",
    "    nums = []\n",
    "    num = 0\n",
    "    while num < n:\n",
    "        nums.append(num)\n",
    "        num += 1\n",
    "    return nums\n",
    "\n",
    "print(sum(nsum(10000000)))\n",
    "\n",
    "print('bytes:',sys.getsizeof(nsum(10000000)))"
   ]
  },
  {
   "cell_type": "markdown",
   "id": "f1633740-5b0d-4ed8-a36a-a074702608d1",
   "metadata": {},
   "source": [
    "## same code with genrator"
   ]
  },
  {
   "cell_type": "code",
   "execution_count": 65,
   "id": "d5cfbef6-c2b8-436c-9b6f-2161c74d8e54",
   "metadata": {},
   "outputs": [
    {
     "name": "stdout",
     "output_type": "stream",
     "text": [
      "49999995000000\n",
      "bytes: 112\n"
     ]
    }
   ],
   "source": [
    "def nsum_genrator(n):\n",
    "    num = 0\n",
    "    while num < n:\n",
    "        yield num\n",
    "        num += 1\n",
    "\n",
    "print(sum(nsum_genrator(10000000)))\n",
    "\n",
    "# d = nsum_genrator(9)\n",
    "# print(sum(d))\n",
    "\n",
    "print('bytes:',sys.getsizeof(nsum_genrator(10000000)))  # this genrator saves alot of space"
   ]
  },
  {
   "cell_type": "markdown",
   "id": "9e4f0938-2786-40c2-a320-f7e70e56c4a9",
   "metadata": {},
   "source": [
    "## febonaci series example using genrator"
   ]
  },
  {
   "cell_type": "code",
   "execution_count": 70,
   "id": "772c3ff3-2f51-4647-a020-9366a144e960",
   "metadata": {},
   "outputs": [
    {
     "name": "stdout",
     "output_type": "stream",
     "text": [
      "0\n",
      "1\n",
      "1\n",
      "2\n",
      "3\n",
      "5\n",
      "8\n",
      "13\n",
      "21\n",
      "34\n"
     ]
    }
   ],
   "source": [
    "def febi(lm):\n",
    "    a,b = 0,1 \n",
    "    while a < lm:\n",
    "        yield a\n",
    "        a,b = b, a + b\n",
    "        \n",
    "fz = febi(40)\n",
    "for i in fz:\n",
    "    print(i)"
   ]
  },
  {
   "cell_type": "markdown",
   "id": "6145ea75-262e-405a-89e3-639f407da4ef",
   "metadata": {},
   "source": [
    "## differce in expression in genrator and list"
   ]
  },
  {
   "cell_type": "code",
   "execution_count": 78,
   "id": "859fbda8-f304-4334-8375-b115732dda65",
   "metadata": {},
   "outputs": [
    {
     "name": "stdout",
     "output_type": "stream",
     "text": [
      "0\n",
      "2\n",
      "4\n",
      "6\n",
      "8\n",
      "bytes: 112\n"
     ]
    }
   ],
   "source": [
    "genrator = (i for i in range(10) if i % 2 == 0)\n",
    "for i in genrator:\n",
    "    print(i)\n",
    "    \n",
    "print('bytes:',sys.getsizeof(genrator))"
   ]
  },
  {
   "cell_type": "code",
   "execution_count": 79,
   "id": "858e1208-5ffb-4d36-8887-f4b7e0837aa9",
   "metadata": {},
   "outputs": [
    {
     "name": "stdout",
     "output_type": "stream",
     "text": [
      "[0, 2, 4, 6, 8]\n",
      "bytes: 120\n"
     ]
    }
   ],
   "source": [
    "my_list = [i for i in range(10) if i % 2 == 0]\n",
    "print(my_list)\n",
    "\n",
    "print('bytes:',sys.getsizeof(my_list))"
   ]
  },
  {
   "cell_type": "code",
   "execution_count": null,
   "id": "ab97ff41-d8b7-4bf0-b0c9-d51e03e3e580",
   "metadata": {},
   "outputs": [],
   "source": []
  }
 ],
 "metadata": {
  "kernelspec": {
   "display_name": "Python 3 (ipykernel)",
   "language": "python",
   "name": "python3"
  },
  "language_info": {
   "codemirror_mode": {
    "name": "ipython",
    "version": 3
   },
   "file_extension": ".py",
   "mimetype": "text/x-python",
   "name": "python",
   "nbconvert_exporter": "python",
   "pygments_lexer": "ipython3",
   "version": "3.8.12"
  }
 },
 "nbformat": 4,
 "nbformat_minor": 5
}
