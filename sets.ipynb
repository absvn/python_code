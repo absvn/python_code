{
 "cells": [
  {
   "cell_type": "code",
   "execution_count": 1,
   "id": "57749e40-aa76-4f3d-b9a5-41a64238856f",
   "metadata": {},
   "outputs": [
    {
     "name": "stdout",
     "output_type": "stream",
     "text": [
      "{'mahi', 1, 2, 'thor'}\n"
     ]
    }
   ],
   "source": [
    "my_set = {'mahi',1,2,'thor'}\n",
    "print(my_set)"
   ]
  },
  {
   "cell_type": "code",
   "execution_count": 2,
   "id": "35cc6393-9f48-4e0b-aafb-0343256fbac1",
   "metadata": {},
   "outputs": [
    {
     "name": "stdout",
     "output_type": "stream",
     "text": [
      "{'vbnm', 'ab', 'asdf'}\n"
     ]
    }
   ],
   "source": [
    "my_set2 = {'ab','ab','asdf','vbnm'}\n",
    "print(my_set2)"
   ]
  },
  {
   "cell_type": "code",
   "execution_count": 3,
   "id": "6af7bbbc-5944-4b41-9e86-3bc951ddb8be",
   "metadata": {},
   "outputs": [
    {
     "name": "stdout",
     "output_type": "stream",
     "text": [
      "{'n', 'b', 'y', 'r', 'o', 'p', 'i', 'l', 'z', 'g', 'e', 's', 'j', 'h', 'x', 'f', 'm', 'v', 'w', 'd', 'k', 'a', 'c', 'q', 't', 'u'}\n",
      "<class 'set'>\n"
     ]
    }
   ],
   "source": [
    "my_set4 = set('qwertyuiopasdfghjklzxcvbnmqwertyuiopsdfghklzxcvbnm')\n",
    "print(my_set4)\n",
    "print(type(my_set4))"
   ]
  },
  {
   "cell_type": "code",
   "execution_count": 4,
   "id": "6433c312-7116-418e-9ce8-28171f63d7f9",
   "metadata": {},
   "outputs": [
    {
     "name": "stdout",
     "output_type": "stream",
     "text": [
      "{'mahi', 1, 2, 'thor'}\n",
      "{1, 2, 8, 'mahi', 'thor'}\n"
     ]
    }
   ],
   "source": [
    "print(my_set)\n",
    "my_set.add(8)\n",
    "print(my_set)"
   ]
  },
  {
   "cell_type": "code",
   "execution_count": 5,
   "id": "36560af8-1471-4aba-adf5-b6037378e16b",
   "metadata": {},
   "outputs": [
    {
     "name": "stdout",
     "output_type": "stream",
     "text": [
      "{1, 2, 8, 9, 'mahi', 'thor'}\n",
      "{2, 8, 9, 'mahi', 'thor'}\n"
     ]
    }
   ],
   "source": [
    "my_set.add(9)\n",
    "print(my_set)\n",
    "my_set.remove(1)\n",
    "print(my_set)"
   ]
  },
  {
   "cell_type": "code",
   "execution_count": 6,
   "id": "e7c8f3a1-eafc-4c87-9f86-e893df8bb648",
   "metadata": {},
   "outputs": [
    {
     "name": "stdout",
     "output_type": "stream",
     "text": [
      "{2, 8, 9, 'mahi', 'thor'}\n",
      "{8, 9, 'mahi', 'thor'}\n"
     ]
    }
   ],
   "source": [
    "# pop removes a random element\n",
    "print(my_set)\n",
    "my_set.pop()\n",
    "print(my_set)"
   ]
  },
  {
   "cell_type": "code",
   "execution_count": 11,
   "id": "5026a651-11dc-4245-b626-3a2eab6e9f86",
   "metadata": {},
   "outputs": [
    {
     "name": "stdout",
     "output_type": "stream",
     "text": [
      "{1, 2, 3, 4, 5, 6, 7, 8}\n",
      "{1, 2, 4, 5, 6, 7, 8}\n"
     ]
    }
   ],
   "source": [
    "# remove and discard difference\n",
    "\n",
    "a_set = {1,2,3,4,5,6,7,8}\n",
    "print(a_set)\n",
    "a_set.remove(3)\n",
    "print(a_set)"
   ]
  },
  {
   "cell_type": "code",
   "execution_count": 13,
   "id": "e1c32b5c-f0a1-4c17-ba28-51696d1bd6ed",
   "metadata": {},
   "outputs": [
    {
     "ename": "KeyError",
     "evalue": "9",
     "output_type": "error",
     "traceback": [
      "\u001b[0;31m---------------------------------------------------------------------------\u001b[0m",
      "\u001b[0;31mKeyError\u001b[0m                                  Traceback (most recent call last)",
      "\u001b[0;32m/var/folders/mm/860dj7v16yz0c3_f_fc1dt080000gn/T/ipykernel_2649/3019096895.py\u001b[0m in \u001b[0;36m<module>\u001b[0;34m\u001b[0m\n\u001b[0;32m----> 1\u001b[0;31m \u001b[0ma_set\u001b[0m\u001b[0;34m.\u001b[0m\u001b[0mremove\u001b[0m\u001b[0;34m(\u001b[0m\u001b[0;36m9\u001b[0m\u001b[0;34m)\u001b[0m \u001b[0;31m# if elenment not found in set the it gives value error\u001b[0m\u001b[0;34m\u001b[0m\u001b[0;34m\u001b[0m\u001b[0m\n\u001b[0m",
      "\u001b[0;31mKeyError\u001b[0m: 9"
     ]
    }
   ],
   "source": [
    "a_set.remove(9) # if elenment not found in set the it gives value error"
   ]
  },
  {
   "cell_type": "code",
   "execution_count": 15,
   "id": "71ffe5a0-8c36-483b-a27d-eab4a241ce52",
   "metadata": {},
   "outputs": [
    {
     "name": "stdout",
     "output_type": "stream",
     "text": [
      "{1, 2, 4, 5, 6, 7, 8}\n",
      "{1, 2, 4, 5, 6, 7, 8}\n"
     ]
    }
   ],
   "source": [
    "print(a_set)\n",
    "a_set.discard(9)\n",
    "print(a_set)"
   ]
  },
  {
   "cell_type": "code",
   "execution_count": 16,
   "id": "3ffebf92-5919-4a1d-93fb-4a6adaa04492",
   "metadata": {},
   "outputs": [
    {
     "name": "stdout",
     "output_type": "stream",
     "text": [
      "1\n",
      "2\n",
      "4\n",
      "5\n",
      "6\n",
      "7\n",
      "8\n"
     ]
    }
   ],
   "source": [
    "for i in a_set:\n",
    "    print(i)"
   ]
  },
  {
   "cell_type": "code",
   "execution_count": 22,
   "id": "ebfccd93-df8b-410d-9c56-8c732c0c04fc",
   "metadata": {},
   "outputs": [
    {
     "name": "stdout",
     "output_type": "stream",
     "text": [
      "{0, 1, 2, 3, 4, 5, 6, 7, 8, 9}\n",
      "set()\n",
      "{2}\n",
      "{1, 2, 3, 5, 7, 9}\n"
     ]
    }
   ],
   "source": [
    "odd = {1, 3, 5, 7, 9}\n",
    "even = {0, 2, 4, 6, 8}\n",
    "prime = {2, 3, 5, 7}\n",
    "\n",
    "print(odd.union(even))\n",
    "print(odd.intersection(even))\n",
    "print(even.intersection(prime))\n",
    "print(odd.union(prime))"
   ]
  },
  {
   "cell_type": "code",
   "execution_count": 23,
   "id": "db712beb-855c-4ce5-80d4-142cc9c7f1c5",
   "metadata": {},
   "outputs": [
    {
     "name": "stdout",
     "output_type": "stream",
     "text": [
      "frozenset({0, 1, 2, 3, 4, 5, 6, 7, 8, 9})\n",
      "frozenset()\n",
      "frozenset({1, 3, 5, 7, 9})\n"
     ]
    }
   ],
   "source": [
    "a = frozenset([1,2,3,4,5,6,7,8])\n",
    "\n",
    "# The following is not allowed:\n",
    "# a.add(5)\n",
    "# a.remove(1)\n",
    "# a.discard(1)\n",
    "# a.clear()\n",
    "\n",
    "# Also no update methods are allowed:\n",
    "# a.update([1,2,3])\n",
    "\n",
    "# Other set operations work\n",
    "\n",
    "odds = frozenset({1, 3, 5, 7, 9})\n",
    "evens = frozenset({0, 2, 4, 6, 8})\n",
    "print(odds.union(evens))\n",
    "print(odds.intersection(evens))\n",
    "print(odds.difference(evens))"
   ]
  },
  {
   "cell_type": "code",
   "execution_count": null,
   "id": "4a8b2bc9-af54-4681-a616-22e6488b4031",
   "metadata": {},
   "outputs": [],
   "source": []
  }
 ],
 "metadata": {
  "kernelspec": {
   "display_name": "Python 3 (ipykernel)",
   "language": "python",
   "name": "python3"
  },
  "language_info": {
   "codemirror_mode": {
    "name": "ipython",
    "version": 3
   },
   "file_extension": ".py",
   "mimetype": "text/x-python",
   "name": "python",
   "nbconvert_exporter": "python",
   "pygments_lexer": "ipython3",
   "version": "3.8.12"
  }
 },
 "nbformat": 4,
 "nbformat_minor": 5
}
