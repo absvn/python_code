{
 "cells": [
  {
   "cell_type": "markdown",
   "id": "181e8886-fa0a-47c2-9412-b49a8405bd28",
   "metadata": {},
   "source": [
    "## *args special syntax *args in function definitions in python is used to pass a variable number of arguments to a function"
   ]
  },
  {
   "cell_type": "code",
   "execution_count": 2,
   "id": "8a2eb3b3-051a-4e5c-9789-b7b04823ac57",
   "metadata": {},
   "outputs": [
    {
     "name": "stdout",
     "output_type": "stream",
     "text": [
      "1\n",
      "thor\n",
      "yeah\n",
      "8\n"
     ]
    }
   ],
   "source": [
    "def eg(*args):\n",
    "    for i in args:\n",
    "        print(i)\n",
    "        \n",
    "eg(1,'thor','yeah',8)"
   ]
  },
  {
   "cell_type": "markdown",
   "id": "8e47a9dc-b8d2-4dee-b492-b38a381b0015",
   "metadata": {},
   "source": [
    "## *kwargs special syntax **kwargs in function definitions in python is used to pass a keyworded, variable-length argument list"
   ]
  },
  {
   "cell_type": "code",
   "execution_count": 7,
   "id": "0a970000-4730-44f2-b8fc-20881b8bba60",
   "metadata": {},
   "outputs": [
    {
     "name": "stdout",
     "output_type": "stream",
     "text": [
      "first : 1\n",
      "second : thor\n",
      "third : yeah\n",
      "fourth : 8\n"
     ]
    }
   ],
   "source": [
    "def eg_k(**kwargs):\n",
    "    for k,v in kwargs.items():\n",
    "        print('%s : %s' %(k,v))\n",
    "        \n",
    "eg_k(first=1,second='thor',third='yeah',fourth=8)"
   ]
  },
  {
   "cell_type": "code",
   "execution_count": null,
   "id": "616adc53-b528-4709-b0f2-2c6e2e392f8a",
   "metadata": {},
   "outputs": [],
   "source": []
  }
 ],
 "metadata": {
  "kernelspec": {
   "display_name": "Python 3 (ipykernel)",
   "language": "python",
   "name": "python3"
  },
  "language_info": {
   "codemirror_mode": {
    "name": "ipython",
    "version": 3
   },
   "file_extension": ".py",
   "mimetype": "text/x-python",
   "name": "python",
   "nbconvert_exporter": "python",
   "pygments_lexer": "ipython3",
   "version": "3.8.12"
  }
 },
 "nbformat": 4,
 "nbformat_minor": 5
}
