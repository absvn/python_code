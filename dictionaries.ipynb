{
 "cells": [
  {
   "cell_type": "code",
   "execution_count": 12,
   "id": "84a41b87-66ce-4a02-9d3d-691cad82ea12",
   "metadata": {},
   "outputs": [
    {
     "name": "stdout",
     "output_type": "stream",
     "text": [
      "{'name': 'thor', 'age': 19, 'country': 'India'}\n",
      "{'name': 'abhi', 'age': 20, 'country': 'USA'}\n"
     ]
    }
   ],
   "source": [
    "my_dict = {'name': 'thor', 'age': 19, 'country': 'India'}\n",
    "print(my_dict)\n",
    "\n",
    "# u can use dictionary constructor\n",
    "\n",
    "my_dict2 = dict(name = 'abhi', age = 20, country = 'USA')\n",
    "print(my_dict2)"
   ]
  },
  {
   "cell_type": "code",
   "execution_count": 13,
   "id": "3ea3b7af-4a58-4a53-9cbe-79cb25d46ec5",
   "metadata": {},
   "outputs": [
    {
     "data": {
      "text/plain": [
       "'thor'"
      ]
     },
     "execution_count": 13,
     "metadata": {},
     "output_type": "execute_result"
    }
   ],
   "source": [
    "# access items in dictionaries\n",
    "\n",
    "my_dict['name']"
   ]
  },
  {
   "cell_type": "code",
   "execution_count": 14,
   "id": "e98c8d85-a237-4045-90dc-3ef8a0e61930",
   "metadata": {},
   "outputs": [
    {
     "name": "stdout",
     "output_type": "stream",
     "text": [
      "{'name': 'thor', 'age': 19, 'country': 'India', 'email': 'abhi.gmail.com'}\n",
      "{'name': 'thor', 'age': 19, 'country': 'India', 'email': 'singh.abhi@gmail.com'}\n"
     ]
    }
   ],
   "source": [
    "# add a key or change the value of that key\n",
    "\n",
    "my_dict['email']= 'abhi.gmail.com'\n",
    "print(my_dict)\n",
    "\n",
    "my_dict['email']= 'singh.abhi@gmail.com'\n",
    "print(my_dict)"
   ]
  },
  {
   "cell_type": "code",
   "execution_count": 15,
   "id": "7e5aa5c1-d90d-4e7d-838c-5b80dba48e90",
   "metadata": {},
   "outputs": [
    {
     "name": "stdout",
     "output_type": "stream",
     "text": [
      "{'name': 'thor', 'age': 19, 'country': 'India'}\n",
      "{'name': 'thor', 'country': 'India'}\n",
      "{'name': 'thor'}\n"
     ]
    }
   ],
   "source": [
    "# delete items\n",
    "\n",
    "del my_dict['email']\n",
    "print(my_dict)\n",
    "\n",
    "my_dict.pop('age')\n",
    "print(my_dict)\n",
    "\n",
    "my_dict.popitem()\n",
    "print(my_dict)"
   ]
  },
  {
   "cell_type": "code",
   "execution_count": 16,
   "id": "be8b1e53-e8bf-466d-b129-0c2cf1846865",
   "metadata": {},
   "outputs": [
    {
     "name": "stdout",
     "output_type": "stream",
     "text": [
      "{'name': 'abhi', 'age': 20, 'country': 'USA'}\n",
      "{}\n"
     ]
    }
   ],
   "source": [
    "print(my_dict2)\n",
    "my_dict2.clear()\n",
    "print(my_dict2)"
   ]
  },
  {
   "cell_type": "code",
   "execution_count": 20,
   "id": "15670b44-04df-495d-8448-e1784bdfc4a7",
   "metadata": {},
   "outputs": [
    {
     "name": "stdout",
     "output_type": "stream",
     "text": [
      "{'name': 'tim', 'age': 19, 'city': 'new york'}\n",
      "{'name': 'thor', 'age': 19, 'city': 'new york'}\n",
      "{'name': 'mahi', 'age': 19, 'city': 'new york'}\n"
     ]
    }
   ],
   "source": [
    "# to copy a dictionary\n",
    "\n",
    "n_dict = dict(name = 'tim', age = 19, city = 'new york')\n",
    "print(n_dict)\n",
    "\n",
    "dict_copy = n_dict\n",
    "dict_copy['name'] = 'thor'\n",
    "print(dict_copy)\n",
    "\n",
    "dict_copy2 = dict(n_dict)\n",
    "dict_copy2['name'] = 'mahi'\n",
    "print(dict_copy2)"
   ]
  },
  {
   "cell_type": "code",
   "execution_count": 22,
   "id": "a9d20c6f-45ff-4764-9ebc-573d0713d11e",
   "metadata": {},
   "outputs": [
    {
     "name": "stdout",
     "output_type": "stream",
     "text": [
      "{'name': 'tim', 'age': 19, 'city': 'new york', 'country': 'USA'}\n"
     ]
    }
   ],
   "source": [
    "# merging the 2 list \n",
    "\n",
    "n_dict = dict(name = 'tim', age = 19, city = 'new york')\n",
    "n_dict2 = dict(country = 'USA')\n",
    "n_dict.update(n_dict2)\n",
    "print(n_dict)"
   ]
  },
  {
   "cell_type": "code",
   "execution_count": 23,
   "id": "39628615-8a1c-4902-b6fe-3b696e031df2",
   "metadata": {},
   "outputs": [
    {
     "name": "stdout",
     "output_type": "stream",
     "text": [
      "18\n"
     ]
    }
   ],
   "source": [
    "# tuple inside a dictionary\n",
    "\n",
    "my_tuple = (8,10)\n",
    "m_dict = {my_tuple: 18}\n",
    "\n",
    "print(m_dict[my_tuple])"
   ]
  },
  {
   "cell_type": "code",
   "execution_count": 35,
   "id": "a60acaca-7d17-4a0c-b0b2-5a46e004b21f",
   "metadata": {},
   "outputs": [
    {
     "name": "stdout",
     "output_type": "stream",
     "text": [
      "{'a': {'name': 'thor', 'age': 19}, 'b': {'city': 'new york', 'weapon': 'strombreaker'}}\n",
      "{'name': 'thor', 'age': 19}\n"
     ]
    }
   ],
   "source": [
    "# nested dictionaries\n",
    "\n",
    "dict_1 = {'name': 'thor', 'age': 19}\n",
    "dict_2 = {'city': 'new york', 'weapon': 'strombreaker'}\n",
    "\n",
    "nested_dict = {'a': dict_1, 'b':dict_2}\n",
    "print(nested_dict)\n",
    "print(nested_dict['a'])"
   ]
  },
  {
   "cell_type": "code",
   "execution_count": null,
   "id": "109ae6b6-ad61-4db0-a49c-42b977894482",
   "metadata": {},
   "outputs": [],
   "source": []
  }
 ],
 "metadata": {
  "kernelspec": {
   "display_name": "Python 3 (ipykernel)",
   "language": "python",
   "name": "python3"
  },
  "language_info": {
   "codemirror_mode": {
    "name": "ipython",
    "version": 3
   },
   "file_extension": ".py",
   "mimetype": "text/x-python",
   "name": "python",
   "nbconvert_exporter": "python",
   "pygments_lexer": "ipython3",
   "version": "3.8.12"
  }
 },
 "nbformat": 4,
 "nbformat_minor": 5
}
