{
 "cells": [
  {
   "cell_type": "code",
   "execution_count": 1,
   "id": "c6d2b76f-6b07-4c0f-b751-f37e08a18777",
   "metadata": {},
   "outputs": [],
   "source": [
    "from itertools import permutations"
   ]
  },
  {
   "cell_type": "code",
   "execution_count": 6,
   "id": "0593d6b3-d673-4f43-b40e-7cdf0c51f3b1",
   "metadata": {},
   "outputs": [
    {
     "name": "stdout",
     "output_type": "stream",
     "text": [
      "[(1, 2, 4), (1, 4, 2), (2, 1, 4), (2, 4, 1), (4, 1, 2), (4, 2, 1)]\n"
     ]
    }
   ],
   "source": [
    "p = permutations([1,2,4])\n",
    "print(list(p))"
   ]
  },
  {
   "cell_type": "code",
   "execution_count": 17,
   "id": "e0fa6842-fe9e-49db-a8cc-c7eeefaa3b8f",
   "metadata": {},
   "outputs": [
    {
     "name": "stdout",
     "output_type": "stream",
     "text": [
      "[(1, 2), (1, 3), (1, 4), (2, 1), (2, 3), (2, 4), (3, 1), (3, 2), (3, 4), (4, 1), (4, 2), (4, 3)]\n"
     ]
    }
   ],
   "source": [
    "r = permutations([1,2,3,4],2) # length of permutation tuples\n",
    "print(list(r))"
   ]
  },
  {
   "cell_type": "code",
   "execution_count": 18,
   "id": "b942476f-9dad-4700-a3d5-5aba2332fac6",
   "metadata": {},
   "outputs": [],
   "source": [
    "from itertools import combinations, combinations_with_replacement"
   ]
  },
  {
   "cell_type": "code",
   "execution_count": 22,
   "id": "f800cfc6-ac16-409f-b796-cdf507fa7484",
   "metadata": {},
   "outputs": [
    {
     "name": "stdout",
     "output_type": "stream",
     "text": [
      "[(1, 2), (1, 3), (1, 4), (2, 3), (2, 4), (3, 4)]\n"
     ]
    }
   ],
   "source": [
    "s = combinations([1,2,3,4], 2)\n",
    "print(list(s))"
   ]
  },
  {
   "cell_type": "code",
   "execution_count": 28,
   "id": "f32034e0-c38e-4974-ab2f-78d962b476d5",
   "metadata": {},
   "outputs": [
    {
     "name": "stdout",
     "output_type": "stream",
     "text": [
      "[(1, 1), (1, 2), (1, 3), (1, 4), (2, 2), (2, 3), (2, 4), (3, 3), (3, 4), (4, 4)]\n"
     ]
    }
   ],
   "source": [
    "k = combinations_with_replacement([1,2,3,4], 2)\n",
    "print(list(k))"
   ]
  },
  {
   "cell_type": "markdown",
   "id": "941b923a-5f07-4846-a211-fd133cd89985",
   "metadata": {},
   "source": [
    "## accumulate"
   ]
  },
  {
   "cell_type": "code",
   "execution_count": 29,
   "id": "dc1abe9b-2cc0-4d4d-9e33-e7d9c01a227e",
   "metadata": {},
   "outputs": [],
   "source": [
    "from itertools import accumulate\n",
    "import operator"
   ]
  },
  {
   "cell_type": "code",
   "execution_count": 35,
   "id": "ab536cab-1962-4dec-9167-800db09a05f5",
   "metadata": {},
   "outputs": [
    {
     "name": "stdout",
     "output_type": "stream",
     "text": [
      "[1, 3, 6, 10, 15, 21, 28, 36]\n"
     ]
    }
   ],
   "source": [
    "au = accumulate([1,2,3,4,5,6,7,8])\n",
    "print(list(au))"
   ]
  },
  {
   "cell_type": "code",
   "execution_count": 36,
   "id": "27becd40-3dd9-45ba-a0e0-2f29227eabca",
   "metadata": {},
   "outputs": [
    {
     "name": "stdout",
     "output_type": "stream",
     "text": [
      "[1, 2, 6, 24, 120, 720, 5040, 40320]\n"
     ]
    }
   ],
   "source": [
    "au = accumulate([1,2,3,4,5,6,7,8], func = operator.mul)\n",
    "print(list(au))"
   ]
  },
  {
   "cell_type": "code",
   "execution_count": 56,
   "id": "c8f1214f-d91d-4080-b961-de91d50ab1b1",
   "metadata": {},
   "outputs": [
    {
     "name": "stdout",
     "output_type": "stream",
     "text": [
      "[5, 6, 9, 9, 9]\n"
     ]
    }
   ],
   "source": [
    "ac = accumulate([5,6,9,8,9], func= max)\n",
    "print(list(ac))"
   ]
  },
  {
   "cell_type": "code",
   "execution_count": 57,
   "id": "0f3e3fc9-df10-4408-a064-79d0272755db",
   "metadata": {},
   "outputs": [],
   "source": [
    "#groupby\n",
    "\n",
    "from itertools import groupby"
   ]
  },
  {
   "cell_type": "code",
   "execution_count": 70,
   "id": "dd2f239b-8d55-4eee-adb5-11b225c6040c",
   "metadata": {},
   "outputs": [
    {
     "name": "stdout",
     "output_type": "stream",
     "text": [
      "True [1, 2, 3, 4, 5, 6, 7]\n",
      "False [8]\n"
     ]
    }
   ],
   "source": [
    "def smlr(x):\n",
    "    return x < 8\n",
    "\n",
    "g = groupby([1,2,3,4,5,6,7,8], key = smlr)\n",
    "for k, l in g:\n",
    "    print(k,list(l))"
   ]
  },
  {
   "cell_type": "code",
   "execution_count": 2,
   "id": "c86e8a6e-bb75-49eb-8475-de5e7dfcbc87",
   "metadata": {},
   "outputs": [],
   "source": [
    "# repeat, count, cycle\n",
    "\n",
    "from itertools import repeat, cycle, count"
   ]
  },
  {
   "cell_type": "code",
   "execution_count": 3,
   "id": "96bba37a-6d4a-4f70-8a3f-95712903012e",
   "metadata": {},
   "outputs": [
    {
     "name": "stdout",
     "output_type": "stream",
     "text": [
      "1\n",
      "2\n",
      "3\n",
      "4\n",
      "5\n",
      "6\n",
      "7\n",
      "8\n",
      "9\n",
      "10\n"
     ]
    }
   ],
   "source": [
    "# here i: i, i+1, i+2, ....\n",
    "\n",
    "for i in count(1):\n",
    "    print(i)\n",
    "    if i > 9:\n",
    "        break"
   ]
  },
  {
   "cell_type": "code",
   "execution_count": 7,
   "id": "6de1c8e2-57aa-4a39-909f-386db6d94b71",
   "metadata": {
    "collapsed": true,
    "jupyter": {
     "outputs_hidden": true
    },
    "tags": []
   },
   "outputs": [
    {
     "name": "stdout",
     "output_type": "stream",
     "text": [
      "2\n",
      "2\n",
      "2\n",
      "2\n",
      "2\n",
      "2\n",
      "2\n",
      "2\n",
      "2\n",
      "2\n",
      "2\n",
      "2\n",
      "2\n",
      "2\n",
      "2\n",
      "2\n",
      "2\n",
      "2\n",
      "2\n",
      "2\n",
      "2\n",
      "2\n",
      "2\n",
      "2\n",
      "2\n",
      "2\n",
      "2\n",
      "2\n",
      "2\n",
      "2\n",
      "2\n",
      "2\n",
      "2\n",
      "2\n",
      "2\n",
      "2\n",
      "2\n",
      "2\n",
      "2\n",
      "2\n",
      "2\n",
      "2\n",
      "2\n",
      "2\n",
      "2\n",
      "2\n",
      "2\n",
      "2\n",
      "2\n",
      "2\n",
      "100\n"
     ]
    }
   ],
   "source": [
    "x=0\n",
    "for i in cycle([2]):\n",
    "    print(i)\n",
    "    x+= i\n",
    "    if x>99:\n",
    "        break\n",
    "print(x)"
   ]
  },
  {
   "cell_type": "code",
   "execution_count": 8,
   "id": "92e5ec38-429c-4fa3-a1bd-2aed7986be6f",
   "metadata": {},
   "outputs": [
    {
     "name": "stdout",
     "output_type": "stream",
     "text": [
      "a\n",
      "a\n",
      "a\n",
      "a\n",
      "a\n",
      "a\n",
      "a\n",
      "a\n"
     ]
    }
   ],
   "source": [
    "# repeat prints the chancter n times\n",
    "\n",
    "for i in repeat('a', 8):\n",
    "    print(i)"
   ]
  },
  {
   "cell_type": "code",
   "execution_count": null,
   "id": "d6e59c90-2bb0-46d7-9973-75d339498187",
   "metadata": {},
   "outputs": [],
   "source": []
  }
 ],
 "metadata": {
  "kernelspec": {
   "display_name": "Python 3 (ipykernel)",
   "language": "python",
   "name": "python3"
  },
  "language_info": {
   "codemirror_mode": {
    "name": "ipython",
    "version": 3
   },
   "file_extension": ".py",
   "mimetype": "text/x-python",
   "name": "python",
   "nbconvert_exporter": "python",
   "pygments_lexer": "ipython3",
   "version": "3.8.12"
  }
 },
 "nbformat": 4,
 "nbformat_minor": 5
}
